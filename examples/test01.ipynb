{
 "cells": [
  {
   "cell_type": "code",
   "execution_count": 1,
   "metadata": {},
   "outputs": [
    {
     "name": "stderr",
     "output_type": "stream",
     "text": [
      "\u001b[32m\u001b[1m  Activating\u001b[22m\u001b[39m project at `~/development/Projects/nImageData.jl`\n"
     ]
    }
   ],
   "source": [
    "using Pkg\n",
    "Pkg.activate(\"/Users/jiyong/development/Projects/nImageData.jl\")\n",
    "using Images, Interpolations, TestImages, ImageTransformations, CoordinateTransformations, Rotations, FFTW\n",
    "using LinearAlgebra\n",
    "using CairoMakie\n",
    "import Base: promote_rule\n"
   ]
  },
  {
   "cell_type": "code",
   "execution_count": null,
   "metadata": {},
   "outputs": [
    {
     "data": {
      "text/plain": [
       "find_aac (generic function with 6 methods)"
      ]
     },
     "metadata": {},
     "output_type": "display_data"
    }
   ],
   "source": [
    "\n",
    "\"\"\"\n",
    "    ImageData{T}\n",
    "\n",
    "Uniform spacing grid data as images.\n",
    "\"\"\"\n",
    "struct ImageData{T} <: AbstractArray{T, 2}\n",
    "    mat::Matrix{T}\n",
    "    \n",
    "    function ImageData(mat::Matrix{T}) where T<:Real\n",
    "        return new{T}(mat)\n",
    "    end\n",
    "end\n",
    "\n",
    "Matrix{T}(idt::ImageData) where T= Matrix{T}(idt.mat)\n",
    "\n",
    "Base.eltype(idt::ImageData) = Base.eltype(idt.mat)\n",
    "Base.length(idt::ImageData) = Base.length(idt.mat)\n",
    "Base.iterate(idt::ImageData) = Base.iterate(idt.mat)\n",
    "Base.iterate(idt::ImageData, state...) = Base.iterate(idt.mat, state...)\n",
    "Base.isdone(idt::ImageData; state...) = Base.isdone(idt.mat; state...)\n",
    "Base.size(idt::ImageData{T}, x2...) where T = Base.size(idt.mat, x2...)\n",
    "\n",
    "\n",
    "function Base.show(io::IO, idt::ImageData{T}) where T\n",
    "    h, w = size(idt.mat)\n",
    "    println(io, \"$h\",\"x\",\"$w ImageData{$T}\")\n",
    "end\n",
    "\n",
    "Base.getindex(idt::ImageData{T}, idx...) where T= Base.getindex(idt.mat, idx...)\n",
    "Base.getindex(idt::ImageData{T}, inds::Vararg{Int,N}) where {T,N} = idt.mat[inds...]\n",
    "\n",
    "Base.setindex!(idt::ImageData{T}, idx...) where T = Base.setindex!(idt.mat, idx...)\n",
    "Base.setindex!(idt::ImageData{T}, val, inds::Vararg{Int, 2}) where T = A.data[inds...] = val\n",
    "\n",
    "Base.showarg(io::IO, idt::ImageData, toplevel) = print(io, typeof(idt))\n",
    "\n",
    "Base.firstindex(idt::ImageData{T}) where T = Base.firstindex(idt.mat)\n",
    "Base.lastindex(idt::ImageData{T}) where T = Base.lastindex(idt.mat)\n",
    "\n",
    "Base.BroadcastStyle(::Type{ImageData}) = ImageData()\n",
    "\n",
    "Base.axes(idt::ImageData{T}) where T = Base.axes(idt.mat)\n",
    "\n",
    "# Start of broadcast part to maintain shape after operation\n",
    "Base.BroadcastStyle(::Type{<:ImageData}) = Broadcast.ArrayStyle{ImageData}()\n",
    "\n",
    "function Base.similar(bc::Broadcast.Broadcasted{Broadcast.ArrayStyle{ImageData}}, ::Type{ElType}) where ElType\n",
    "    # Scan the inputs for the ImageData:\n",
    "    A = find_aac(bc)\n",
    "    # Use the char field of A to create the output\n",
    "    ImageData(similar(Array{ElType}, axes(bc)))\n",
    "end\n",
    "\n",
    "\"`A = find_aac(As)` returns the first ArrayAndChar among the arguments.\"\n",
    "find_aac(bc::Base.Broadcast.Broadcasted) = find_aac(bc.args)\n",
    "find_aac(args::Tuple) = find_aac(find_aac(args[1]), Base.tail(args))\n",
    "find_aac(x) = x\n",
    "find_aac(::Tuple{}) = nothing\n",
    "find_aac(a::ImageData, rest) = a\n",
    "find_aac(::Any, rest) = find_aac(rest)"
   ]
  },
  {
   "cell_type": "code",
   "execution_count": null,
   "metadata": {},
   "outputs": [
    {
     "data": {
      "text/plain": [
       "rotate (generic function with 1 method)"
      ]
     },
     "metadata": {},
     "output_type": "display_data"
    }
   ],
   "source": [
    "\n",
    "interpolation_methods = Dict(:nearest => BSpline(Constant()), :bilinear => BSpline(Linear()), :bicubic => BSpline(Cubic(Line(OnGrid()))))\n",
    "\n",
    "\n",
    "function rotate(imd::ImageData{T}, θ; rotation_center = nothing, method = :bilinear, fillvalue = 0) where T\n",
    "    h, w = size(imd)\n",
    "    if rotation_center == nothing \n",
    "        rotation_center = center(imd.mat)\n",
    "    end\n",
    "    trfm = recenter(RotMatrix(θ), rotation_center)\n",
    "    return ImageData(warp(imd.mat, trfm, method = interpolation_methods[method], fillvalue = fillvalue)[1:h, 1:w])\n",
    "end\n",
    "\n",
    "\n"
   ]
  },
  {
   "cell_type": "code",
   "execution_count": 4,
   "metadata": {},
   "outputs": [
    {
     "data": {
      "text/plain": [
       "3×4 ImageData{Float64}:\n",
       " 1.0  4.0  7.0  10.0\n",
       " 2.0  5.0  8.0  11.0\n",
       " 3.0  6.0  9.0  12.0"
      ]
     },
     "metadata": {},
     "output_type": "display_data"
    }
   ],
   "source": [
    "A = reshape(collect(1.0:12), (3, 4))\n",
    "M = ImageData(A)"
   ]
  },
  {
   "cell_type": "code",
   "execution_count": 5,
   "metadata": {},
   "outputs": [
    {
     "data": {
      "text/plain": [
       "3×4 ImageData{Float64}:\n",
       " 0.841471  -0.756802  0.656987  -0.544021\n",
       " 0.909297  -0.958924  0.989358  -0.99999\n",
       " 0.14112   -0.279415  0.412118  -0.536573"
      ]
     },
     "metadata": {},
     "output_type": "display_data"
    }
   ],
   "source": [
    "sin.(M)"
   ]
  },
  {
   "cell_type": "code",
   "execution_count": null,
   "metadata": {},
   "outputs": [],
   "source": [
    "X = imresize(testimage(\"cameraman\"), (256,256))"
   ]
  },
  {
   "cell_type": "code",
   "execution_count": null,
   "metadata": {},
   "outputs": [],
   "source": [
    "idt1 = ImageData(Float32.(X))"
   ]
  },
  {
   "cell_type": "code",
   "execution_count": null,
   "metadata": {},
   "outputs": [],
   "source": [
    "exp.(idt1)"
   ]
  },
  {
   "cell_type": "code",
   "execution_count": null,
   "metadata": {},
   "outputs": [],
   "source": [
    "similar(idt1, Float64)\n"
   ]
  },
  {
   "cell_type": "code",
   "execution_count": null,
   "metadata": {},
   "outputs": [],
   "source": [
    "s=rotate(idt1, π/6, method = :bilinear)"
   ]
  },
  {
   "cell_type": "code",
   "execution_count": null,
   "metadata": {},
   "outputs": [],
   "source": [
    "heatmap(s.mat)"
   ]
  },
  {
   "cell_type": "code",
   "execution_count": null,
   "metadata": {},
   "outputs": [],
   "source": [
    "K = (size(X) .- (1, 1))./(sz .- (1, 1))\n",
    "b = (1, 1) .- K\n",
    "ϕ(p) = @. K*p + b\n"
   ]
  },
  {
   "cell_type": "code",
   "execution_count": null,
   "metadata": {},
   "outputs": [],
   "source": [
    "for p in CartesianIndices(Y)\n",
    "    q = ϕ(p.I)\n",
    "    Y[p] = τ(q)\n",
    "end\n",
    "\n",
    "mosaic(X, Y; nrow=1)"
   ]
  },
  {
   "cell_type": "code",
   "execution_count": null,
   "metadata": {},
   "outputs": [],
   "source": [
    "t = recenter(RotMatrix(π/4), center(X))"
   ]
  },
  {
   "cell_type": "code",
   "execution_count": null,
   "metadata": {},
   "outputs": [],
   "source": [
    "center(X)"
   ]
  },
  {
   "cell_type": "code",
   "execution_count": null,
   "metadata": {},
   "outputs": [],
   "source": [
    "extrema(X)"
   ]
  },
  {
   "cell_type": "code",
   "execution_count": null,
   "metadata": {},
   "outputs": [],
   "source": [
    "extrema(idt1)"
   ]
  },
  {
   "cell_type": "code",
   "execution_count": null,
   "metadata": {},
   "outputs": [],
   "source": [
    "A=rand(10, 10)\n",
    "convert.(Float32, A)"
   ]
  },
  {
   "cell_type": "code",
   "execution_count": null,
   "metadata": {},
   "outputs": [],
   "source": [
    "ca=CartesianIndex(1,2)"
   ]
  },
  {
   "cell_type": "code",
   "execution_count": null,
   "metadata": {},
   "outputs": [],
   "source": [
    "typeof([1 2;3 4])"
   ]
  },
  {
   "cell_type": "code",
   "execution_count": null,
   "metadata": {},
   "outputs": [],
   "source": [
    "Base.convert"
   ]
  }
 ],
 "metadata": {
  "kernelspec": {
   "display_name": "Julia 1.10.2",
   "language": "julia",
   "name": "julia-1.10"
  },
  "language_info": {
   "file_extension": ".jl",
   "mimetype": "application/julia",
   "name": "julia",
   "version": "1.10.2"
  }
 },
 "nbformat": 4,
 "nbformat_minor": 2
}
